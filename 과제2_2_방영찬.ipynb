{
 "cells": [
  {
   "cell_type": "code",
   "execution_count": 15,
   "id": "d36cff58",
   "metadata": {},
   "outputs": [],
   "source": [
    "def search_branches():\n",
    "\n",
    "    import pandas as pd\n",
    "\n",
    "    DIR='./'\n",
    "    FILE=DIR+'hollys_branches.csv'\n",
    "    hbDF=pd.read_csv(FILE)\n",
    "\n",
    "    a=input('검색할 매장의 도시를 입력하세요: ').split()\n",
    "\n",
    "    hbDF_s=hbDF.loc[hbDF['주소'].str.contains(a[0])&hbDF['주소'].str.contains(a[1])]\n",
    "    print('-'*20)\n",
    "    print('검색된 매장 수:  {0}'.format(len(hbDF_s['주소'])))\n",
    "    print('-'*20)\n",
    "    for i in range(len(hbDF_s['주소'])):\n",
    "        print('[  {0}]: [\\'{1}\\', \\'{2}\\']'.format(i+1, list(hbDF_s['주소'])[i], list(hbDF_s['전화번호'])[i]))\n",
    "    "
   ]
  },
  {
   "cell_type": "code",
   "execution_count": 17,
   "id": "2ed2672e",
   "metadata": {},
   "outputs": [
    {
     "name": "stdout",
     "output_type": "stream",
     "text": [
      "검색할 매장의 도시를 입력하세요: 대구 북구\n",
      "--------------------\n",
      "검색된 매장 수:  6\n",
      "--------------------\n",
      "[  1]: ['대구광역시 북구 동화천로 229 (연경동) 1층~2층', '053-982-6877']\n",
      "[  2]: ['대구광역시 북구 대학로 17길 3 (산격동 1393-11) 할리스 B1~3층', '053-951-9990']\n",
      "[  3]: ['대구광역시 북구 구암로 59 비전스퀘어 1,2층 .', '053-324-6122']\n",
      "[  4]: ['대구광역시 북구 침산남로 157 (침산동) .', '053-353-5544']\n",
      "[  5]: ['대구 북구 성북로 36,2층 601,602,603,604 473-3, 침산초등학교 맞은편', '053-353-5412']\n",
      "[  6]: ['대구광역시 북구 동천로 125 (동천동) .', '053-321-0099']\n"
     ]
    }
   ],
   "source": [
    "search_branches()"
   ]
  }
 ],
 "metadata": {
  "kernelspec": {
   "display_name": "Python 3 (ipykernel)",
   "language": "python",
   "name": "python3"
  },
  "language_info": {
   "codemirror_mode": {
    "name": "ipython",
    "version": 3
   },
   "file_extension": ".py",
   "mimetype": "text/x-python",
   "name": "python",
   "nbconvert_exporter": "python",
   "pygments_lexer": "ipython3",
   "version": "3.9.12"
  }
 },
 "nbformat": 4,
 "nbformat_minor": 5
}
